{
 "cells": [
  {
   "cell_type": "code",
   "execution_count": 2,
   "metadata": {},
   "outputs": [],
   "source": [
    "import numpy as np\n",
    "import matplotlib.pyplot as plt\n",
    "import datasets\n",
    "import json"
   ]
  },
  {
   "cell_type": "code",
   "execution_count": 2,
   "metadata": {},
   "outputs": [],
   "source": [
    "path = \"/data/katie_kang/mlmm-evaluation/datasets/m_arc/\"\n",
    "language = \"es\"\n",
    "file = path + f\"{language}_test.json\"\n",
    "dataset = datasets.load_dataset(\"json\", data_files=file)[\"train\"]\n",
    "test_choices = (np.array([dataset['option_a'], dataset['option_b'], dataset['option_c'], dataset['option_d']]).transpose())\n",
    "test_questions = (dataset[\"instruction\"])\n",
    "test_answers = (dataset['answer'])\n",
    "test_subjects = ([language for _ in range(len(dataset[\"instruction\"]))])"
   ]
  },
  {
   "cell_type": "code",
   "execution_count": 3,
   "metadata": {},
   "outputs": [],
   "source": [
    "with open(file) as f:\n",
    "    data = json.load(f)"
   ]
  },
  {
   "cell_type": "code",
   "execution_count": 4,
   "metadata": {},
   "outputs": [
    {
     "data": {
      "text/plain": [
       "(4, 1170)"
      ]
     },
     "execution_count": 4,
     "metadata": {},
     "output_type": "execute_result"
    }
   ],
   "source": [
    "np.array([dataset['option_a'], dataset['option_b'], dataset['option_c'], dataset['option_d']]).shape"
   ]
  },
  {
   "cell_type": "code",
   "execution_count": 5,
   "metadata": {},
   "outputs": [
    {
     "data": {
      "text/plain": [
       "array(['los edificios se construirán más rápido',\n",
       "       'los edificios serán más seguros',\n",
       "       'los diseños de los edificios se verán más bonitos',\n",
       "       'los materiales de construcción serán más baratos'], dtype=object)"
      ]
     },
     "execution_count": 5,
     "metadata": {},
     "output_type": "execute_result"
    }
   ],
   "source": [
    "np.array([dataset['option_a'], dataset['option_b'], dataset['option_c'], dataset['option_d']]).transpose()[6]"
   ]
  },
  {
   "cell_type": "code",
   "execution_count": 17,
   "metadata": {},
   "outputs": [
    {
     "data": {
      "text/plain": [
       "'Un grupo de ingenieros quería saber cómo responderían diferentes diseños de edificios durante un terremoto. Crearon varios modelos de edificios y probaron cada uno de ellos para evaluar su capacidad para resistir las condiciones sísmicas. ¿Qué es lo más probable que resulte de probar diferentes diseños de edificios?'"
      ]
     },
     "execution_count": 17,
     "metadata": {},
     "output_type": "execute_result"
    }
   ],
   "source": [
    "test_questions[6]"
   ]
  },
  {
   "cell_type": "code",
   "execution_count": 18,
   "metadata": {},
   "outputs": [
    {
     "data": {
      "text/plain": [
       "array(['tener una gran cantidad de semillas', '6', 'metro',\n",
       "       'mucho más caliente'], dtype=object)"
      ]
     },
     "execution_count": 18,
     "metadata": {},
     "output_type": "execute_result"
    }
   ],
   "source": [
    "test_choices[6]"
   ]
  },
  {
   "cell_type": "code",
   "execution_count": 28,
   "metadata": {},
   "outputs": [],
   "source": [
    "language_types = [\"en\"]\n",
    "language_types += [\"de\", \"fr\", \"it\", \"vi\", \"ar\", \"ro\", \"sk\", \"ca\", \"hr\", \"bn\", \"ne\", \"mr\", \"kn\"]\n",
    "language_types += [\"ru\", \"zh\", \"es\", \"nl\", \"id\", \"hu\", \"da\", \"uk\", \"sr\", \"hi\", \"ta\", \"ml\", \"te\"]\n",
    "\n",
    "def map_letters_to_numbers(letter):\n",
    "    if letter == \"2\":\n",
    "        return 2\n",
    "    return ord(letter) - ord(\"A\")\n",
    "\n",
    "accuracies_base = []\n",
    "for language in language_types:\n",
    "    answers = np.load(os.path.join(\"base_model_arc_0shot\", f\"{language}_answers.npy\"))\n",
    "    A_to_D_logits_all = np.load(os.path.join(\"base_model_arc_0shot\", f\"{language}_A_to_D_probs.npy\"))\n",
    "    accuracies_base.append((A_to_D_logits_all.argmax(-1) == list(map(map_letters_to_numbers, answers))).sum()/len(answers))\n",
    "\n",
    "accuracies_multilingual = []\n",
    "model_path = \"/data/katie_kang/trlx/examples/ckpts/sft_arc_multilingual_llama7B/checkpoint_20000/hf_model\"\n",
    "\n",
    "for language in language_types:\n",
    "    answers = np.load(os.path.join(model_path, f\"{language}_answers.npy\"))\n",
    "    A_to_D_logits_all = np.load(os.path.join(model_path, f\"{language}_A_to_D_probs.npy\"))\n",
    "    accuracies_multilingual.append((A_to_D_logits_all.argmax(-1) == list(map(map_letters_to_numbers, answers))).sum()/len(answers))\n",
    "\n",
    "\n",
    "accuracies_english = []\n",
    "model_path = \"/data/katie_kang/trlx/examples/ckpts/sft_arc_english_llama7B_2/checkpoint_20000/hf_model\"\n",
    "\n",
    "for language in language_types:\n",
    "    answers = np.load(os.path.join(model_path, f\"{language}_answers.npy\"))\n",
    "    A_to_D_logits_all = np.load(os.path.join(model_path, f\"{language}_A_to_D_probs.npy\"))\n",
    "    accuracies_english.append((A_to_D_logits_all.argmax(-1) == list(map(map_letters_to_numbers, answers))).sum()/len(answers))"
   ]
  },
  {
   "cell_type": "code",
   "execution_count": 36,
   "metadata": {},
   "outputs": [],
   "source": [
    "language_types = [\"en\"]\n",
    "language_types += [\"de\", \"fr\", \"it\", \"vi\", \"ar\", \"ro\", \"sk\", \"ca\", \"hr\", \"bn\", \"ne\", \"mr\", \"kn\"]\n",
    "language_types += [\"ru\", \"zh\", \"es\", \"nl\", \"id\", \"hu\", \"da\", \"uk\", \"sr\", \"hi\", \"ta\", \"ml\", \"te\"]\n",
    "\n",
    "def map_letters_to_numbers(letter):\n",
    "    if letter == \"2\":\n",
    "        return 1\n",
    "    if letter == \"1\":\n",
    "        return 0\n",
    "    if letter == \"3\":\n",
    "        return 2\n",
    "    if letter == \"4\":\n",
    "        return 3\n",
    "    return ord(letter) - ord(\"A\")\n",
    "\n",
    "# likelihoods_base = []\n",
    "# for language in language_types:\n",
    "#     answers = np.load(os.path.join(\"base_model_arc_0shot\", f\"{language}_answers.npy\"))\n",
    "#     A_to_D_logits_all = np.load(os.path.join(\"base_model_arc_0shot\", f\"{language}_A_to_D_probs.npy\"))\n",
    "#     likelihoods_base.append(A_to_D_logits_all.sum(-1).mean())\n",
    "\n",
    "likelihoods_multilingual = []\n",
    "likelihoods_gt_multilingual = []\n",
    "model_path = \"/data/katie_kang/trlx/examples/ckpts/sft_arc_multilingual_llama7B/checkpoint_20000/hf_model\"\n",
    "\n",
    "for language in language_types:\n",
    "    answers = np.load(os.path.join(model_path, f\"{language}_answers.npy\"))\n",
    "    A_to_D_logits_all = np.load(os.path.join(model_path, f\"{language}_A_to_D_probs_unnorm.npy\"))\n",
    "    likelihoods_multilingual.append(A_to_D_logits_all.sum(-1).mean())\n",
    "    likelihoods_gt_multilingual.append(A_to_D_logits_all[np.arange(len(A_to_D_logits_all)), np.array(list(map(map_letters_to_numbers, answers)))].mean())\n",
    "\n",
    "\n",
    "likelihoods_english = []\n",
    "likelihoods_gt_english = []\n",
    "model_path = \"/data/katie_kang/trlx/examples/ckpts/sft_arc_english_llama7B_2/checkpoint_20000/hf_model\"\n",
    "\n",
    "for language in language_types:\n",
    "    answers = np.load(os.path.join(model_path, f\"{language}_answers.npy\"))\n",
    "    A_to_D_logits_all = np.load(os.path.join(model_path, f\"{language}_A_to_D_probs_unnorm.npy\"))\n",
    "    likelihoods_english.append((A_to_D_logits_all.sum(-1)).mean())\n",
    "    likelihoods_gt_english.append(A_to_D_logits_all[np.arange(len(A_to_D_logits_all)), np.array(list(map(map_letters_to_numbers, answers)))].mean())\n"
   ]
  },
  {
   "cell_type": "code",
   "execution_count": 41,
   "metadata": {},
   "outputs": [
    {
     "data": {
      "text/plain": [
       "[0.9895533684545579,\n",
       " 0.9597905971219147,\n",
       " 0.9641139411848036,\n",
       " 0.9372154993746886,\n",
       " 0.9878695648420561,\n",
       " 0.9768195537136456,\n",
       " 0.978799707122863,\n",
       " 0.9341346745647315,\n",
       " 0.9690631788831375,\n",
       " 0.9413323342239571,\n",
       " 0.9697858787814686,\n",
       " 0.9883289056650949,\n",
       " 0.9560394019066348,\n",
       " 0.850190386320898,\n",
       " 0.9953458438542635,\n",
       " 0.9603225289835249,\n",
       " 0.9733532500996165,\n",
       " 0.9706978346017407,\n",
       " 0.8389910157006746,\n",
       " 0.9692882031470385,\n",
       " 0.9666741103639882,\n",
       " 0.9901102704550299,\n",
       " 0.943346697587449,\n",
       " 0.9888771315063829,\n",
       " 0.9595282339424193,\n",
       " 0.9437054620913676,\n",
       " 0.8312268283896846]"
      ]
     },
     "execution_count": 41,
     "metadata": {},
     "output_type": "execute_result"
    }
   ],
   "source": [
    "likelihoods_english"
   ]
  },
  {
   "cell_type": "code",
   "execution_count": 39,
   "metadata": {},
   "outputs": [
    {
     "data": {
      "text/plain": [
       "[0.48489960630348405,\n",
       " 0.3503600466167959,\n",
       " 0.3770408453146894,\n",
       " 0.3741537930086516,\n",
       " 0.3265450166346489,\n",
       " 0.22799484206616522,\n",
       " 0.35289687110712303,\n",
       " 0.2928132358250024,\n",
       " 0.3474031022268294,\n",
       " 0.32465571929673004,\n",
       " 0.23528468661425908,\n",
       " 0.2441084671451924,\n",
       " 0.24089004002243009,\n",
       " 0.20804398601809268,\n",
       " 0.35458765966114086,\n",
       " 0.33674609217878876,\n",
       " 0.389101984948308,\n",
       " 0.3389128933538902,\n",
       " 0.30065436628749886,\n",
       " 0.31068755774026047,\n",
       " 0.3434307401680811,\n",
       " 0.33172268022771334,\n",
       " 0.33355983285896323,\n",
       " 0.2437347234483753,\n",
       " 0.2403462207064612,\n",
       " 0.23526764764113958,\n",
       " 0.20759505524571006]"
      ]
     },
     "execution_count": 39,
     "metadata": {},
     "output_type": "execute_result"
    }
   ],
   "source": [
    "likelihoods_gt_english"
   ]
  },
  {
   "cell_type": "code",
   "execution_count": 37,
   "metadata": {},
   "outputs": [
    {
     "data": {
      "text/plain": [
       "array([], dtype='<U1')"
      ]
     },
     "execution_count": 37,
     "metadata": {},
     "output_type": "execute_result"
    }
   ],
   "source": [
    "answers[np.where(np.array(list(map(map_letters_to_numbers, answers))) == -13)[0]]"
   ]
  },
  {
   "cell_type": "code",
   "execution_count": 27,
   "metadata": {},
   "outputs": [
    {
     "data": {
      "text/plain": [
       "array(['C', 'B', 'C', ..., 'A', 'D', 'A'], dtype='<U1')"
      ]
     },
     "execution_count": 27,
     "metadata": {},
     "output_type": "execute_result"
    }
   ],
   "source": [
    "answers"
   ]
  },
  {
   "cell_type": "code",
   "execution_count": 25,
   "metadata": {},
   "outputs": [
    {
     "data": {
      "text/plain": [
       "9"
      ]
     },
     "execution_count": 25,
     "metadata": {},
     "output_type": "execute_result"
    }
   ],
   "source": [
    "((np.array(list(map(map_letters_to_numbers, answers))))==-15).sum()"
   ]
  },
  {
   "cell_type": "code",
   "execution_count": 23,
   "metadata": {},
   "outputs": [
    {
     "data": {
      "text/plain": [
       "(1140,)"
      ]
     },
     "execution_count": 23,
     "metadata": {},
     "output_type": "execute_result"
    }
   ],
   "source": [
    "A_to_D_logits_all[np.arange(len(A_to_D_logits_all)), np.array(list(map(map_letters_to_numbers, answers)))].shape"
   ]
  },
  {
   "cell_type": "code",
   "execution_count": 9,
   "metadata": {},
   "outputs": [
    {
     "data": {
      "text/plain": [
       "[0.9895533684545579,\n",
       " 0.9597905971219147,\n",
       " 0.9641139411848036,\n",
       " 0.9372154993746886,\n",
       " 0.9878695648420561,\n",
       " 0.9768195537136456,\n",
       " 0.978799707122863,\n",
       " 0.9341346745647315,\n",
       " 0.9690631788831375,\n",
       " 0.9413323342239571,\n",
       " 0.9697858787814686,\n",
       " 0.9883289056650949,\n",
       " 0.9560394019066348,\n",
       " 0.850190386320898,\n",
       " 0.9953458438542635,\n",
       " 0.9603225289835249,\n",
       " 0.9733532500996165,\n",
       " 0.9706978346017407,\n",
       " 0.8389910157006746,\n",
       " 0.9692882031470385,\n",
       " 0.9666741103639882,\n",
       " 0.9901102704550299,\n",
       " 0.943346697587449,\n",
       " 0.9888771315063829,\n",
       " 0.9595282339424193,\n",
       " 0.9437054620913676,\n",
       " 0.8312268283896846]"
      ]
     },
     "execution_count": 9,
     "metadata": {},
     "output_type": "execute_result"
    }
   ],
   "source": [
    "likelihoods_english"
   ]
  },
  {
   "cell_type": "code",
   "execution_count": 30,
   "metadata": {},
   "outputs": [],
   "source": [
    "accuracies_multilingual = np.array(accuracies_multilingual)\n",
    "accuracies_english = np.array(accuracies_english)"
   ]
  },
  {
   "cell_type": "code",
   "execution_count": 31,
   "metadata": {},
   "outputs": [
    {
     "data": {
      "text/plain": [
       "14"
      ]
     },
     "execution_count": 31,
     "metadata": {},
     "output_type": "execute_result"
    }
   ],
   "source": [
    "language_types = [\"en\"]\n",
    "language_types += [\"de\", \"fr\", \"it\", \"vi\", \"ar\", \"ro\", \"sk\", \"ca\", \"hr\", \"bn\", \"ne\", \"mr\", \"kn\"]\n",
    "len(language_types)"
   ]
  },
  {
   "cell_type": "code",
   "execution_count": 37,
   "metadata": {},
   "outputs": [
    {
     "data": {
      "text/plain": [
       "[<matplotlib.lines.Line2D at 0x7f528ea0fe50>]"
      ]
     },
     "execution_count": 37,
     "metadata": {},
     "output_type": "execute_result"
    },
    {
     "data": {
      "image/png": "[encoded data removed]",
      "text/plain": [
       "<Figure size 640x480 with 1 Axes>"
      ]
     },
     "metadata": {},
     "output_type": "display_data"
    }
   ],
   "source": [
    "# plt.scatter(accuracies_base[:14], accuracies_multilingual[:14])\n",
    "# plt.scatter(accuracies_base[14:], accuracies_multilingual[14:])\n",
    "\n",
    "plt.scatter(accuracies_base[:14], likelihoods_multilingual[:14])\n",
    "plt.scatter(accuracies_base[14:], likelihoods_multilingual[14:])\n",
    "\n",
    "\n",
    "# plt.scatter(accuracies_base, accuracies_english)\n",
    "\n",
    "\n",
    "plt.plot([0.1, 0.7], [0.1, 0.7])"
   ]
  },
  {
   "cell_type": "code",
   "execution_count": 28,
   "metadata": {},
   "outputs": [
    {
     "data": {
      "text/plain": [
       "[<matplotlib.lines.Line2D at 0x7f528eb98070>]"
      ]
     },
     "execution_count": 28,
     "metadata": {},
     "output_type": "execute_result"
    },
    {
     "data": {
      "image/png": "[encoded data removed]",
      "text/plain": [
       "<Figure size 640x480 with 1 Axes>"
      ]
     },
     "metadata": {},
     "output_type": "display_data"
    }
   ],
   "source": [
    "plt.scatter(accuracies_base[:1], accuracies_english[:1])\n",
    "plt.scatter(accuracies_base[1:], accuracies_english[1:])\n",
    "\n",
    "# plt.scatter(accuracies_base, accuracies_english)\n",
    "\n",
    "\n",
    "plt.plot([0.1, 0.7], [0.1, 0.7])"
   ]
  },
  {
   "cell_type": "code",
   "execution_count": 9,
   "metadata": {},
   "outputs": [],
   "source": [
    "language_types = [\"en\"]\n",
    "language_types += [\"de\", \"fr\", \"it\", \"vi\", \"ar\", \"ro\", \"sk\", \"ca\", \"hr\", \"bn\", \"ne\", \"mr\", \"kn\"]\n",
    "language_types += [\"ru\", \"zh\", \"es\", \"nl\", \"id\", \"hu\", \"da\", \"uk\", \"sr\", \"hi\", \"ta\", \"ml\", \"te\"]\n",
    "accuracies = []\n",
    "def map_letters_to_numbers(letter):\n",
    "    return ord(letter) - ord(\"A\")\n",
    "    \n",
    "for language in language_types:\n",
    "    answers = np.load(os.path.join(\"base_model_arc\", f\"{language}_answers.npy\"))\n",
    "    A_to_D_logits_all = np.load(os.path.join(\"base_model_arc\", f\"{language}_A_to_D_probs.npy\"))\n",
    "    accuracies.append((A_to_D_logits_all.argmax(-1) == list(map(map_letters_to_numbers, answers))).sum()/len(answers))"
   ]
  },
  {
   "cell_type": "code",
   "execution_count": 10,
   "metadata": {},
   "outputs": [
    {
     "data": {
      "text/plain": [
       "[0.5278969957081545,\n",
       " 0.24636441402908468,\n",
       " 0.24208725406330198,\n",
       " 0.24807527801539778,\n",
       " 0.2264957264957265,\n",
       " 0.26518391787852863,\n",
       " 0.2236503856041131,\n",
       " 0.24807527801539778,\n",
       " 0.2564322469982847,\n",
       " 0.23609923011120615,\n",
       " 0.26518391787852863,\n",
       " 0.26518391787852863,\n",
       " 0.24588744588744588,\n",
       " 0.22560975609756098,\n",
       " 0.2540633019674936,\n",
       " 0.2512820512820513,\n",
       " 0.2623931623931624,\n",
       " 0.23952095808383234,\n",
       " 0.24786324786324787,\n",
       " 0.23715753424657535,\n",
       " 0.22707797772065125,\n",
       " 0.24379811804961504,\n",
       " 0.22668947818648416,\n",
       " 0.2440068493150685,\n",
       " 0.2635726795096322,\n",
       " 0.266199649737303,\n",
       " 0.22631578947368422]"
      ]
     },
     "execution_count": 10,
     "metadata": {},
     "output_type": "execute_result"
    }
   ],
   "source": [
    "accuracies"
   ]
  },
  {
   "cell_type": "code",
   "execution_count": 4,
   "metadata": {},
   "outputs": [
    {
     "data": {
      "text/plain": [
       "1169"
      ]
     },
     "execution_count": 4,
     "metadata": {},
     "output_type": "execute_result"
    }
   ],
   "source": [
    "len(np.load(os.path.join(\"base_model_arc\", f\"de_A_to_D_probs.npy\")))"
   ]
  },
  {
   "cell_type": "code",
   "execution_count": 5,
   "metadata": {},
   "outputs": [
    {
     "data": {
      "text/plain": [
       "array([[0.49068847, 0.32884756, 0.12482741, 0.05563652],\n",
       "       [0.56073493, 0.25853738, 0.11386613, 0.06686162],\n",
       "       [0.23667745, 0.13979493, 0.28985056, 0.33367705],\n",
       "       ...,\n",
       "       [0.37514955, 0.2361467 , 0.23707004, 0.15163369],\n",
       "       [0.28160289, 0.1159593 , 0.26149485, 0.34094301],\n",
       "       [0.30451015, 0.19265641, 0.2986483 , 0.20418514]])"
      ]
     },
     "execution_count": 5,
     "metadata": {},
     "output_type": "execute_result"
    }
   ],
   "source": [
    "np.load(os.path.join(\"base_model_arc\", f\"fr_A_to_D_probs.npy\"))"
   ]
  },
  {
   "cell_type": "code",
   "execution_count": null,
   "metadata": {},
   "outputs": [],
   "source": []
  }
 ],
 "metadata": {
  "kernelspec": {
   "display_name": "Python 3.9.18 ('trlx')",
   "language": "python",
   "name": "python3"
  },
  "language_info": {
   "codemirror_mode": {
    "name": "ipython",
    "version": 3
   },
   "file_extension": ".py",
   "mimetype": "text/x-python",
   "name": "python",
   "nbconvert_exporter": "python",
   "pygments_lexer": "ipython3",
   "version": "3.9.18"
  },
  "orig_nbformat": 4,
  "vscode": {
   "interpreter": {
    "hash": "72a3fd4a13b86e2ebaa0e8e208d83864f5fab883245b2c176f0efba32410842e"
   }
  }
 },
 "nbformat": 4,
 "nbformat_minor": 2
}
